{
 "cells": [
  {
   "cell_type": "markdown",
   "metadata": {
    "deletable": true,
    "editable": true
   },
   "source": [
    "# LeNet Lab\n",
    "![LeNet Architecture](image/lenet.png)\n",
    "Source: Yan LeCun"
   ]
  },
  {
   "cell_type": "markdown",
   "metadata": {
    "deletable": true,
    "editable": true
   },
   "source": [
    "## Load Data\n",
    "\n",
    "Load the MNIST data, which comes pre-loaded with TensorFlow."
   ]
  },
  {
   "cell_type": "code",
   "execution_count": 1,
   "metadata": {
    "collapsed": false,
    "deletable": true,
    "editable": true
   },
   "outputs": [
    {
     "name": "stdout",
     "output_type": "stream",
     "text": [
      "Extracting datasets/mnist/train-images-idx3-ubyte.gz\n",
      "Extracting datasets/mnist/train-labels-idx1-ubyte.gz\n",
      "Extracting datasets/mnist/t10k-images-idx3-ubyte.gz\n",
      "Extracting datasets/mnist/t10k-labels-idx1-ubyte.gz\n",
      "\n",
      "Image Shape: (28, 28, 1)\n",
      "\n",
      "Training Set:   55000 samples\n",
      "Validation Set: 5000 samples\n",
      "Test Set:       10000 samples\n"
     ]
    }
   ],
   "source": [
    "from tensorflow.examples.tutorials.mnist import input_data\n",
    "\n",
    "mnist = input_data.read_data_sets(\"datasets/mnist/\", reshape=False)\n",
    "X_train, y_train           = mnist.train.images, mnist.train.labels\n",
    "X_validation, y_validation = mnist.validation.images, mnist.validation.labels\n",
    "X_test, y_test             = mnist.test.images, mnist.test.labels\n",
    "\n",
    "assert(len(X_train) == len(y_train))\n",
    "assert(len(X_validation) == len(y_validation))\n",
    "assert(len(X_test) == len(y_test))\n",
    "\n",
    "print()\n",
    "print(\"Image Shape: {}\".format(X_train[0].shape))\n",
    "print()\n",
    "print(\"Training Set:   {} samples\".format(len(X_train)))\n",
    "print(\"Validation Set: {} samples\".format(len(X_validation)))\n",
    "print(\"Test Set:       {} samples\".format(len(X_test)))"
   ]
  },
  {
   "cell_type": "markdown",
   "metadata": {
    "deletable": true,
    "editable": true
   },
   "source": [
    "The MNIST data that TensorFlow pre-loads comes as 28x28x1 images.\n",
    "\n",
    "However, the LeNet architecture only accepts 32x32xC images, where C is the number of color channels.\n",
    "\n",
    "In order to reformat the MNIST data into a shape that LeNet will accept, we pad the data with two rows of zeros on the top and bottom, and two columns of zeros on the left and right (28+2+2 = 32)."
   ]
  },
  {
   "cell_type": "code",
   "execution_count": 2,
   "metadata": {
    "collapsed": false,
    "deletable": true,
    "editable": true
   },
   "outputs": [
    {
     "name": "stdout",
     "output_type": "stream",
     "text": [
      "Updated Image Shape: (32, 32, 1)\n"
     ]
    }
   ],
   "source": [
    "import numpy as np\n",
    "\n",
    "# Pad images with 0s\n",
    "X_train      = np.pad(X_train, ((0,0),(2,2),(2,2),(0,0)), 'constant')\n",
    "X_validation = np.pad(X_validation, ((0,0),(2,2),(2,2),(0,0)), 'constant')\n",
    "X_test       = np.pad(X_test, ((0,0),(2,2),(2,2),(0,0)), 'constant')\n",
    "    \n",
    "print(\"Updated Image Shape: {}\".format(X_train[0].shape))"
   ]
  },
  {
   "cell_type": "markdown",
   "metadata": {
    "deletable": true,
    "editable": true
   },
   "source": [
    "## Visualize Data\n",
    "\n",
    "View a sample from the dataset."
   ]
  },
  {
   "cell_type": "code",
   "execution_count": 3,
   "metadata": {
    "collapsed": false,
    "deletable": true,
    "editable": true
   },
   "outputs": [
    {
     "name": "stdout",
     "output_type": "stream",
     "text": [
      "4\n"
     ]
    },
    {
     "data": {
      "image/png": "[encoded data removed]",
      "text/plain": [
       "<matplotlib.figure.Figure at 0x1f2005d4e80>"
      ]
     },
     "metadata": {},
     "output_type": "display_data"
    }
   ],
   "source": [
    "import random\n",
    "import numpy as np\n",
    "import matplotlib.pyplot as plt\n",
    "%matplotlib inline\n",
    "\n",
    "index = random.randint(0, len(X_train))\n",
    "image = X_train[index].squeeze()\n",
    "\n",
    "plt.figure(figsize=(1,1))\n",
    "plt.imshow(image, cmap=\"gray\")\n",
    "print(y_train[index])"
   ]
  },
  {
   "cell_type": "markdown",
   "metadata": {
    "deletable": true,
    "editable": true
   },
   "source": [
    "## Preprocess Data\n",
    "\n",
    "Shuffle the training data."
   ]
  },
  {
   "cell_type": "code",
   "execution_count": 4,
   "metadata": {
    "collapsed": false,
    "deletable": true,
    "editable": true
   },
   "outputs": [],
   "source": [
    "from sklearn.utils import shuffle\n",
    "\n",
    "X_train, y_train = shuffle(X_train, y_train)"
   ]
  },
  {
   "cell_type": "markdown",
   "metadata": {
    "deletable": true,
    "editable": true
   },
   "source": [
    "## Setup TensorFlow\n",
    "The `EPOCH`, `BATCH_SIZE`, and `RATE` values affect the training speed and model accuracy."
   ]
  },
  {
   "cell_type": "code",
   "execution_count": 5,
   "metadata": {
    "collapsed": true,
    "deletable": true,
    "editable": true
   },
   "outputs": [],
   "source": [
    "import tensorflow as tf\n",
    "\n",
    "EPOCHS = 100\n",
    "BATCH_SIZE = 128\n",
    "RATE = 0.001"
   ]
  },
  {
   "cell_type": "markdown",
   "metadata": {
    "deletable": true,
    "editable": true
   },
   "source": [
    "## Implement LeNet-5\n",
    "Implement the [LeNet-5](http://yann.lecun.com/exdb/lenet/) neural network architecture.\n",
    "\n",
    "### Input\n",
    "The LeNet architecture accepts a 32x32xC image as input, where C is the number of color channels. Since MNIST images are grayscale, C is 1 in this case.\n",
    "\n",
    "### Architecture\n",
    "**Layer 1: Convolutional.** The output shape should be 28x28x6.\n",
    "\n",
    "**Activation.** Your choice of activation function.\n",
    "\n",
    "**Pooling.** The output shape should be 14x14x6.\n",
    "\n",
    "**Layer 2: Convolutional.** The output shape should be 10x10x16.\n",
    "\n",
    "**Activation.** Your choice of activation function.\n",
    "\n",
    "**Pooling.** The output shape should be 5x5x16.\n",
    "\n",
    "**Flatten.** Flatten the output shape of the final pooling layer such that it's 1D instead of 3D. The easiest way to do is by using `tf.contrib.layers.flatten`, which is already imported for you.\n",
    "\n",
    "**Layer 3: Fully Connected.** This should have 120 outputs.\n",
    "\n",
    "**Activation.** Your choice of activation function.\n",
    "\n",
    "**Layer 4: Fully Connected.** This should have 84 outputs.\n",
    "\n",
    "**Activation.** Your choice of activation function.\n",
    "\n",
    "**Layer 5: Fully Connected (Logits).** This should have 10 outputs.\n",
    "\n",
    "### Output\n",
    "Return the result of the 2nd fully connected layer."
   ]
  },
  {
   "cell_type": "code",
   "execution_count": 6,
   "metadata": {
    "collapsed": true,
    "deletable": true,
    "editable": true
   },
   "outputs": [],
   "source": [
    "from tensorflow.contrib.layers import flatten\n",
    "\n",
    "def LeNet(x):    \n",
    "    mu = 0\n",
    "    sigma = 0.1\n",
    "    \n",
    "    # Convolution 1: Input = 32x32x1. Output = 28x28x6.\n",
    "    # # Initialize Weights ( 5 x 5 kernel ) and Biases ( 6 output channels)\n",
    "    conv_1_W = tf.Variable(tf.truncated_normal((5, 5, 1, 6), mean=sigma, stddev=mu))\n",
    "    conv_1_b = tf.Variable(tf.zeros(6))\n",
    "    \n",
    "    # # Create convolution:\n",
    "    conv_1 = tf.nn.conv2d(x, conv_1_W, strides=[1,1,1,1], padding='VALID') + conv_1_b\n",
    "        \n",
    "    # # Activate using ReLU\n",
    "    conv_1 = tf.nn.relu(conv_1)\n",
    "\n",
    "    # # Max Pooling: Input = 28x28x6. Output = 14x14x6.\n",
    "    conv_1 = tf.nn.max_pool(conv_1, ksize=[1, 2, 2, 1],strides=[1, 2, 2, 1],padding='VALID')\n",
    "\n",
    "    # Convolution 2:  Convolutional. Output = 10x10x16\n",
    "    # # Initialize Weights and Biases \n",
    "    conv_2_W = tf.Variable(tf.truncated_normal((5, 5, 6, 16), mean=sigma, stddev=mu))\n",
    "    conv_2_b = tf.Variable(tf.zeros(16))\n",
    "    \n",
    "    # # Create convolution:\n",
    "    conv_2 = tf.nn.conv2d(conv_1, conv_2_W, strides=[1,1,1,1], padding='VALID') + conv_2_b\n",
    "    \n",
    "    # # Activate using ReLU\n",
    "    conv_2 = tf.nn.relu(conv_2)\n",
    "    \n",
    "    # # Pooling. Input = 10x10x16. Output = 5x5x16.\n",
    "    conv_2 = tf.nn.max_pool(conv_2, ksize=[1, 2, 2, 1], strides=[1, 2, 2, 1], padding='VALID')\n",
    "    \n",
    "    # # Flatten\n",
    "    conv_2 = flatten(conv_2)\n",
    "    \n",
    "    # Layer 3: Fully Connected. Input = 400. Output = 120.\n",
    "    # # Initialize Weights and Biases\n",
    "    fc_1_W = tf.Variable(tf.truncated_normal((400,120),mean=sigma, stddev=mu))\n",
    "    fc_1_b = tf.Variable(tf.zeros(120))\n",
    "    \n",
    "    # # Create fully connected network\n",
    "    fc_1 = tf.matmul(conv_2, fc_1_W) + fc_1_b\n",
    "    \n",
    "    # # Activation.\n",
    "    fc_1 = tf.nn.relu(fc_1)\n",
    "    \n",
    "    # Layer 4: Fully Connected. Input = 120. Output = 84.\n",
    "    # # Initialize Weights and Biases\n",
    "    fc_2_W = tf.Variable(tf.truncated_normal((120,84),mean=sigma, stddev=mu))\n",
    "    fc_2_b = tf.Variable(tf.zeros(84))\n",
    "    \n",
    "    # # Create fully connected network\n",
    "    fc_2 = tf.matmul(fc_1, fc_2_W) + fc_2_b\n",
    "    \n",
    "    # # Activation.\n",
    "    fc_2 = tf.nn.relu(fc_2)\n",
    "\n",
    "    # Layer 5: Fully Connected. Input = 84. Output = 10.\n",
    "    # # Initialize Weights and Biases\n",
    "    fc_3_W = tf.Variable(tf.truncated_normal((84,10),mean=sigma, stddev=mu))\n",
    "    fc_3_b = tf.Variable(tf.zeros(10))\n",
    "    \n",
    "    # # Create fully connected network\n",
    "    logits = tf.matmul(fc_2, fc_3_W) + fc_3_b\n",
    "        \n",
    "    return logits"
   ]
  },
  {
   "cell_type": "markdown",
   "metadata": {
    "deletable": true,
    "editable": true
   },
   "source": [
    "## Features and Labels\n",
    "Train LeNet to classify [MNIST](http://yann.lecun.com/exdb/mnist/) data.\n",
    "\n",
    "`x` is a placeholder for a batch of input images.\n",
    "`y` is a placeholder for a batch of output labels."
   ]
  },
  {
   "cell_type": "code",
   "execution_count": 7,
   "metadata": {
    "collapsed": false,
    "deletable": true,
    "editable": true
   },
   "outputs": [],
   "source": [
    "x = tf.placeholder(tf.float32, (None, 32, 32, 1))\n",
    "y = tf.placeholder(tf.int32, (None))\n",
    "one_hot_y = tf.one_hot(y, 10)"
   ]
  },
  {
   "cell_type": "markdown",
   "metadata": {
    "deletable": true,
    "editable": true
   },
   "source": [
    "## Training Pipeline\n",
    "Create a training pipeline that uses the model to classify MNIST data."
   ]
  },
  {
   "cell_type": "code",
   "execution_count": 8,
   "metadata": {
    "collapsed": false,
    "deletable": true,
    "editable": true
   },
   "outputs": [],
   "source": [
    "rate = RATE\n",
    "logits = LeNet(x)\n",
    "cross_entropy = tf.nn.softmax_cross_entropy_with_logits(logits=logits, labels=one_hot_y)\n",
    "loss_operation = tf.reduce_mean(cross_entropy)\n",
    "optimizer = tf.train.AdamOptimizer(learning_rate = rate)\n",
    "training_operation = optimizer.minimize(loss_operation)"
   ]
  },
  {
   "cell_type": "markdown",
   "metadata": {
    "deletable": true,
    "editable": true
   },
   "source": [
    "## Model Evaluation\n",
    "Evaluate how well the loss and accuracy of the model for a given dataset."
   ]
  },
  {
   "cell_type": "code",
   "execution_count": 9,
   "metadata": {
    "collapsed": false,
    "deletable": true,
    "editable": true
   },
   "outputs": [],
   "source": [
    "correct_prediction = tf.equal(tf.argmax(logits, 1), tf.argmax(one_hot_y, 1))\n",
    "accuracy_operation = tf.reduce_mean(tf.cast(correct_prediction, tf.float32))\n",
    "saver = tf.train.Saver()\n",
    "\n",
    "def evaluate(X_data, y_data):\n",
    "    num_examples = len(X_data)\n",
    "    total_accuracy = 0\n",
    "    sess = tf.get_default_session()\n",
    "    for offset in range(0, num_examples, BATCH_SIZE):\n",
    "        pass\n",
    "        batch_x, batch_y = X_data[offset:offset+BATCH_SIZE], y_data[offset:offset+BATCH_SIZE]\n",
    "        accuracy = sess.run(accuracy_operation, feed_dict={x: batch_x, y: batch_y})\n",
    "        total_accuracy += (accuracy * len(batch_x))\n",
    "    return total_accuracy / num_examples"
   ]
  },
  {
   "cell_type": "markdown",
   "metadata": {
    "deletable": true,
    "editable": true
   },
   "source": [
    "## Train the Model\n",
    "Run the training data through the training pipeline to train the model.\n",
    "\n",
    "Before each epoch, shuffle the training set.\n",
    "\n",
    "After each epoch, measure the loss and accuracy of the validation set.\n",
    "\n",
    "Save the model after training.\n",
    "\n",
    "This ended up using around 1.4 GB of memory."
   ]
  },
  {
   "cell_type": "code",
   "execution_count": 10,
   "metadata": {
    "collapsed": false,
    "deletable": true,
    "editable": true
   },
   "outputs": [
    {
     "name": "stdout",
     "output_type": "stream",
     "text": [
      "Training...\n",
      "\n",
      "EPOCH 1 ...\n",
      "Validation Accuracy = 0.092\n",
      "\n",
      "EPOCH 2 ...\n",
      "Validation Accuracy = 0.110\n",
      "\n",
      "EPOCH 3 ...\n",
      "Validation Accuracy = 0.093\n",
      "\n",
      "EPOCH 4 ...\n",
      "Validation Accuracy = 0.130\n",
      "\n",
      "EPOCH 5 ...\n",
      "Validation Accuracy = 0.157\n",
      "\n",
      "EPOCH 6 ...\n",
      "Validation Accuracy = 0.171\n",
      "\n",
      "EPOCH 7 ...\n",
      "Validation Accuracy = 0.181\n",
      "\n",
      "EPOCH 8 ...\n",
      "Validation Accuracy = 0.203\n",
      "\n",
      "EPOCH 9 ...\n",
      "Validation Accuracy = 0.203\n",
      "\n",
      "EPOCH 10 ...\n",
      "Validation Accuracy = 0.207\n",
      "\n",
      "EPOCH 11 ...\n",
      "Validation Accuracy = 0.241\n",
      "\n",
      "EPOCH 12 ...\n",
      "Validation Accuracy = 0.268\n",
      "\n",
      "EPOCH 13 ...\n",
      "Validation Accuracy = 0.274\n",
      "\n",
      "EPOCH 14 ...\n",
      "Validation Accuracy = 0.281\n",
      "\n",
      "EPOCH 15 ...\n",
      "Validation Accuracy = 0.286\n",
      "\n",
      "EPOCH 16 ...\n",
      "Validation Accuracy = 0.275\n",
      "\n",
      "EPOCH 17 ...\n",
      "Validation Accuracy = 0.284\n",
      "\n",
      "EPOCH 18 ...\n",
      "Validation Accuracy = 0.285\n",
      "\n",
      "EPOCH 19 ...\n",
      "Validation Accuracy = 0.320\n",
      "\n",
      "EPOCH 20 ...\n",
      "Validation Accuracy = 0.323\n",
      "\n",
      "EPOCH 21 ...\n",
      "Validation Accuracy = 0.323\n",
      "\n",
      "EPOCH 22 ...\n",
      "Validation Accuracy = 0.372\n",
      "\n",
      "EPOCH 23 ...\n",
      "Validation Accuracy = 0.406\n",
      "\n",
      "EPOCH 24 ...\n",
      "Validation Accuracy = 0.422\n",
      "\n",
      "EPOCH 25 ...\n",
      "Validation Accuracy = 0.393\n",
      "\n",
      "EPOCH 26 ...\n",
      "Validation Accuracy = 0.402\n",
      "\n",
      "EPOCH 27 ...\n",
      "Validation Accuracy = 0.471\n",
      "\n",
      "EPOCH 28 ...\n",
      "Validation Accuracy = 0.445\n",
      "\n",
      "EPOCH 29 ...\n",
      "Validation Accuracy = 0.479\n",
      "\n",
      "EPOCH 30 ...\n",
      "Validation Accuracy = 0.458\n",
      "\n",
      "EPOCH 31 ...\n",
      "Validation Accuracy = 0.487\n",
      "\n",
      "EPOCH 32 ...\n",
      "Validation Accuracy = 0.755\n",
      "\n",
      "EPOCH 33 ...\n",
      "Validation Accuracy = 0.945\n",
      "\n",
      "EPOCH 34 ...\n",
      "Validation Accuracy = 0.954\n",
      "\n",
      "EPOCH 35 ...\n",
      "Validation Accuracy = 0.969\n",
      "\n",
      "EPOCH 36 ...\n",
      "Validation Accuracy = 0.975\n",
      "\n",
      "EPOCH 37 ...\n",
      "Validation Accuracy = 0.982\n",
      "\n",
      "EPOCH 38 ...\n",
      "Validation Accuracy = 0.981\n",
      "\n",
      "EPOCH 39 ...\n",
      "Validation Accuracy = 0.983\n",
      "\n",
      "EPOCH 40 ...\n",
      "Validation Accuracy = 0.983\n",
      "\n",
      "EPOCH 41 ...\n",
      "Validation Accuracy = 0.984\n",
      "\n",
      "EPOCH 42 ...\n",
      "Validation Accuracy = 0.983\n",
      "\n",
      "EPOCH 43 ...\n",
      "Validation Accuracy = 0.985\n",
      "\n",
      "EPOCH 44 ...\n",
      "Validation Accuracy = 0.986\n",
      "\n",
      "EPOCH 45 ...\n",
      "Validation Accuracy = 0.983\n",
      "\n",
      "EPOCH 46 ...\n",
      "Validation Accuracy = 0.987\n",
      "\n",
      "EPOCH 47 ...\n",
      "Validation Accuracy = 0.986\n",
      "\n",
      "EPOCH 48 ...\n",
      "Validation Accuracy = 0.987\n",
      "\n",
      "EPOCH 49 ...\n",
      "Validation Accuracy = 0.986\n",
      "\n",
      "EPOCH 50 ...\n",
      "Validation Accuracy = 0.983\n",
      "\n",
      "EPOCH 51 ...\n",
      "Validation Accuracy = 0.986\n",
      "\n",
      "EPOCH 52 ...\n",
      "Validation Accuracy = 0.987\n",
      "\n",
      "EPOCH 53 ...\n",
      "Validation Accuracy = 0.987\n",
      "\n",
      "EPOCH 54 ...\n",
      "Validation Accuracy = 0.985\n",
      "\n",
      "EPOCH 55 ...\n",
      "Validation Accuracy = 0.986\n",
      "\n",
      "EPOCH 56 ...\n",
      "Validation Accuracy = 0.983\n",
      "\n",
      "EPOCH 57 ...\n",
      "Validation Accuracy = 0.986\n",
      "\n",
      "EPOCH 58 ...\n",
      "Validation Accuracy = 0.989\n",
      "\n",
      "EPOCH 59 ...\n",
      "Validation Accuracy = 0.987\n",
      "\n",
      "EPOCH 60 ...\n",
      "Validation Accuracy = 0.986\n",
      "\n",
      "EPOCH 61 ...\n",
      "Validation Accuracy = 0.986\n",
      "\n",
      "EPOCH 62 ...\n",
      "Validation Accuracy = 0.985\n",
      "\n",
      "EPOCH 63 ...\n",
      "Validation Accuracy = 0.985\n",
      "\n",
      "EPOCH 64 ...\n",
      "Validation Accuracy = 0.989\n",
      "\n",
      "EPOCH 65 ...\n",
      "Validation Accuracy = 0.987\n",
      "\n",
      "EPOCH 66 ...\n",
      "Validation Accuracy = 0.987\n",
      "\n",
      "EPOCH 67 ...\n",
      "Validation Accuracy = 0.986\n",
      "\n",
      "EPOCH 68 ...\n",
      "Validation Accuracy = 0.987\n",
      "\n",
      "EPOCH 69 ...\n",
      "Validation Accuracy = 0.986\n",
      "\n",
      "EPOCH 70 ...\n",
      "Validation Accuracy = 0.987\n",
      "\n",
      "EPOCH 71 ...\n",
      "Validation Accuracy = 0.985\n",
      "\n",
      "EPOCH 72 ...\n",
      "Validation Accuracy = 0.985\n",
      "\n",
      "EPOCH 73 ...\n",
      "Validation Accuracy = 0.986\n",
      "\n",
      "EPOCH 74 ...\n",
      "Validation Accuracy = 0.988\n",
      "\n",
      "EPOCH 75 ...\n",
      "Validation Accuracy = 0.986\n",
      "\n",
      "EPOCH 76 ...\n",
      "Validation Accuracy = 0.986\n",
      "\n",
      "EPOCH 77 ...\n",
      "Validation Accuracy = 0.986\n",
      "\n",
      "EPOCH 78 ...\n",
      "Validation Accuracy = 0.987\n",
      "\n",
      "EPOCH 79 ...\n",
      "Validation Accuracy = 0.987\n",
      "\n",
      "EPOCH 80 ...\n",
      "Validation Accuracy = 0.985\n",
      "\n",
      "EPOCH 81 ...\n",
      "Validation Accuracy = 0.988\n",
      "\n",
      "EPOCH 82 ...\n",
      "Validation Accuracy = 0.988\n",
      "\n",
      "EPOCH 83 ...\n",
      "Validation Accuracy = 0.988\n",
      "\n",
      "EPOCH 84 ...\n",
      "Validation Accuracy = 0.989\n",
      "\n",
      "EPOCH 85 ...\n",
      "Validation Accuracy = 0.987\n",
      "\n",
      "EPOCH 86 ...\n",
      "Validation Accuracy = 0.986\n",
      "\n",
      "EPOCH 87 ...\n",
      "Validation Accuracy = 0.987\n",
      "\n",
      "EPOCH 88 ...\n",
      "Validation Accuracy = 0.988\n",
      "\n",
      "EPOCH 89 ...\n",
      "Validation Accuracy = 0.989\n",
      "\n",
      "EPOCH 90 ...\n",
      "Validation Accuracy = 0.988\n",
      "\n",
      "EPOCH 91 ...\n",
      "Validation Accuracy = 0.987\n",
      "\n",
      "EPOCH 92 ...\n",
      "Validation Accuracy = 0.988\n",
      "\n",
      "EPOCH 93 ...\n",
      "Validation Accuracy = 0.985\n",
      "\n",
      "EPOCH 94 ...\n",
      "Validation Accuracy = 0.987\n",
      "\n",
      "EPOCH 95 ...\n",
      "Validation Accuracy = 0.987\n",
      "\n",
      "EPOCH 96 ...\n",
      "Validation Accuracy = 0.988\n",
      "\n",
      "EPOCH 97 ...\n",
      "Validation Accuracy = 0.986\n",
      "\n",
      "EPOCH 98 ...\n",
      "Validation Accuracy = 0.987\n",
      "\n",
      "EPOCH 99 ...\n",
      "Validation Accuracy = 0.986\n",
      "\n",
      "EPOCH 100 ...\n",
      "Validation Accuracy = 0.989\n",
      "\n",
      "Model saved\n"
     ]
    }
   ],
   "source": [
    "with tf.Session() as sess:\n",
    "    sess.run(tf.global_variables_initializer())\n",
    "    num_examples = len(X_train)\n",
    "    \n",
    "    print(\"Training...\")\n",
    "    print()\n",
    "    for i in range(EPOCHS):\n",
    "        X_train, y_train = shuffle(X_train, y_train)\n",
    "        for offset in range(0, num_examples, BATCH_SIZE):\n",
    "            end = offset + BATCH_SIZE\n",
    "            batch_x, batch_y = X_train[offset:end], y_train[offset:end]\n",
    "            sess.run(training_operation, feed_dict={x: batch_x, y: batch_y})\n",
    "            \n",
    "        validation_accuracy = evaluate(X_validation, y_validation)\n",
    "        print(\"EPOCH {} ...\".format(i+1))\n",
    "        print(\"Validation Accuracy = {:.3f}\".format(validation_accuracy))\n",
    "        print()\n",
    "        \n",
    "    saver.save(sess, 'models/lenet')\n",
    "    print(\"Model saved\")"
   ]
  },
  {
   "cell_type": "markdown",
   "metadata": {
    "deletable": true,
    "editable": true
   },
   "source": [
    "## Evaluate the Model\n",
    "Once you are completely satisfied with your model, evaluate the performance of the model on the test set.\n",
    "\n",
    "Be sure to only do this once!\n",
    "\n",
    "If you were to measure the performance of your trained model on the test set, then improve your model, and then measure the performance of your model on the test set again, that would invalidate your test results. You wouldn't get a true measure of how well your model would perform against real data."
   ]
  },
  {
   "cell_type": "code",
   "execution_count": 11,
   "metadata": {
    "collapsed": false,
    "deletable": true,
    "editable": true
   },
   "outputs": [
    {
     "name": "stdout",
     "output_type": "stream",
     "text": [
      "Test Accuracy = 0.990\n"
     ]
    }
   ],
   "source": [
    "with tf.Session() as sess:\n",
    "    saver.restore(sess, tf.train.latest_checkpoint('models/'))\n",
    "\n",
    "    test_accuracy = evaluate(X_test, y_test)\n",
    "    print(\"Test Accuracy = {:.3f}\".format(test_accuracy))"
   ]
  }
 ],
 "metadata": {
  "anaconda-cloud": {},
  "kernelspec": {
   "display_name": "sdc35",
   "language": "python",
   "name": "sdc35"
  },
  "language_info": {
   "codemirror_mode": {
    "name": "ipython",
    "version": 3
   },
   "file_extension": ".py",
   "mimetype": "text/x-python",
   "name": "python",
   "nbconvert_exporter": "python",
   "pygments_lexer": "ipython3",
   "version": "3.5.2"
  },
  "widgets": {
   "state": {},
   "version": "1.1.2"
  }
 },
 "nbformat": 4,
 "nbformat_minor": 0
}
